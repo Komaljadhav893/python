{
  "nbformat": 4,
  "nbformat_minor": 0,
  "metadata": {
    "colab": {
      "provenance": [],
      "authorship_tag": "ABX9TyMyANYDZ2fjc/bcgp7vE2wG",
      "include_colab_link": true
    },
    "kernelspec": {
      "name": "python3",
      "display_name": "Python 3"
    },
    "language_info": {
      "name": "python"
    }
  },
  "cells": [
    {
      "cell_type": "markdown",
      "metadata": {
        "id": "view-in-github",
        "colab_type": "text"
      },
      "source": [
        "<a href=\"https://colab.research.google.com/github/Komaljadhav893/python/blob/main/stack_and_quequ_.ipynb\" target=\"_parent\"><img src=\"https://colab.research.google.com/assets/colab-badge.svg\" alt=\"Open In Colab\"/></a>"
      ]
    },
    {
      "cell_type": "code",
      "execution_count": null,
      "metadata": {
        "colab": {
          "base_uri": "https://localhost:8080/"
        },
        "id": "vS-RAdAkZPKd",
        "outputId": "6d10ce8d-2017-429d-b1ee-727ec9982240"
      },
      "outputs": [
        {
          "output_type": "stream",
          "name": "stdout",
          "text": [
            "True\n",
            "[1, 2, 3]\n",
            "3\n",
            "3\n",
            "[1, 2]\n",
            "False\n",
            "2\n"
          ]
        }
      ],
      "source": [
        "#stack using list\n",
        "class Stack:\n",
        "  def __init__(self):\n",
        "    self.items=[]\n",
        "\n",
        "  def is_empty(self):\n",
        "    return len(self.items) ==0\n",
        "\n",
        "  def push(self,item):\n",
        "    self.items.append(item)\n",
        "\n",
        "  def pop(self):\n",
        "    if not self.is_empty():\n",
        "      return self.items.pop()\n",
        "    else:\n",
        "      raise   IndexError(\"pop from an empty stack\")\n",
        "  def size(self):\n",
        "    return len(self.items)\n",
        "\n",
        "  # def peak(self):\n",
        "  #   if not self.is_empty():\n",
        "  #     return self.item[-1]\n",
        "  #   else:\n",
        "  #     raise IndexError(\"peak from an empty stack\")\n",
        "  def peak(self):\n",
        "    if not self.is_empty():\n",
        "        # Return the top item of the stack\n",
        "        return self.items[-1]\n",
        "    else:\n",
        "        # Raise an IndexError with an informative message\n",
        "        raise IndexError(\"Attempted to peak at an empty stack\")\n",
        "stack=Stack()\n",
        "print(stack.is_empty())\n",
        "stack.push(1)\n",
        "stack.push(2)\n",
        "stack.push(3)\n",
        "print(stack.items)\n",
        "print(stack.peak())\n",
        "print(stack.pop())\n",
        "print(stack.items)\n",
        "print(stack.is_empty())\n",
        "print(stack.size())"
      ]
    },
    {
      "cell_type": "code",
      "source": [
        "\n",
        "#using collection.dequequ\n",
        "from collections import deque\n",
        "\n",
        "stack = deque()\n",
        "\n",
        "# append() function to push\n",
        "# element in the stack\n",
        "stack.append('a')\n",
        "stack.append('b')\n",
        "stack.append('c')\n",
        "\n",
        "print('Initial stack:')\n",
        "print(stack)\n",
        "\n",
        "# pop() function to pop\n",
        "# element from stack in\n",
        "# LIFO order\n",
        "print('\\nElements popped from stack:')\n",
        "print(stack.pop())\n",
        "print(stack.pop())\n",
        "print(stack.pop())\n",
        "\n",
        "print('\\nStack after elements are popped:')\n",
        "print(stack)\n",
        "\n"
      ],
      "metadata": {
        "colab": {
          "base_uri": "https://localhost:8080/"
        },
        "id": "fejf47McckJA",
        "outputId": "6d23d805-14e7-47f5-8ae1-c21488cea271"
      },
      "execution_count": null,
      "outputs": [
        {
          "output_type": "stream",
          "name": "stdout",
          "text": [
            "Initial stack:\n",
            "deque(['a', 'b', 'c'])\n",
            "\n",
            "Elements popped from stack:\n",
            "c\n",
            "b\n",
            "a\n",
            "\n",
            "Stack after elements are popped:\n",
            "deque([])\n"
          ]
        }
      ]
    },
    {
      "cell_type": "code",
      "source": [
        "#implimentation of stack using list\n",
        "stack=[]\n",
        "stack.append(\"a\")\n",
        "stack.append(\"b\")\n",
        "stack.append(\"c\")\n",
        "print(stack)"
      ],
      "metadata": {
        "colab": {
          "base_uri": "https://localhost:8080/"
        },
        "id": "7JXB57d-jOv1",
        "outputId": "4abee9e1-7433-47ab-a491-edbbf8c0ca8b"
      },
      "execution_count": null,
      "outputs": [
        {
          "output_type": "stream",
          "name": "stdout",
          "text": [
            "['a', 'b', 'c']\n"
          ]
        }
      ]
    },
    {
      "cell_type": "code",
      "source": [
        "def is_empty(self):\n",
        "  return self.front is None\n",
        "def enqueue(self,item):\n",
        "  new_node=Node(item)\n",
        "  if self.is_empty():\n",
        "    self.front=new_node\n",
        "    self.rear=new_node\n",
        "  else:\n",
        "    self.rear.next=new_node\n",
        "    self.rear=new_node"
      ],
      "metadata": {
        "id": "xQEb5D5-2S0f"
      },
      "execution_count": null,
      "outputs": []
    },
    {
      "cell_type": "code",
      "source": [
        "#queuq\n",
        "class Node:\n",
        "  def _init_(self,data):\n",
        "    self.data=data\n",
        "    self.next=None\n",
        "  def queueLinkedList():\n",
        "    def _init_(self):\n",
        "      self.front=None\n",
        "      self.rear=None\n",
        "  def is_empty(self):\n",
        "    return self.front is None\n",
        "  def enqueue(self,item):\n",
        "    new_node=Node(item)\n",
        "    if self.is_empty():\n",
        "      self.front=new_node\n",
        "      self.rear=new_node\n",
        "    else:\n",
        "      self.rear.next=new_node\n",
        "      self.rear=new_node\n",
        "  def dequeue(self):\n",
        "    if not self.is_empty():\n",
        "      dequeued_item=self.front.data\n",
        "      self.front=self.front.next\n",
        "      if self.front is None:\n",
        "        self.rear=None\n",
        "        return dequeued_item\n",
        "      else:\n",
        "        raise IndexError(\"dequeue from an empty queue\")\n",
        "  def peak(self):\n",
        "    if not self.is_empty():\n",
        "      return self.front.data\n",
        "    else:\n",
        "      raise IndexError(\"peak from an empty queue\")\n",
        "  def size(self):\n",
        "    count=0\n",
        "    current=self.front\n",
        "    while current:\n",
        "      count+=1\n",
        "      current=current.next\n",
        "      return count\n",
        "#create queue\n",
        "queue=QueueLinkedList():\n",
        "queue.enqueue(1)\n",
        "queue.enqueue(1)\n",
        "queue.enqueue(1)\n",
        "print(queue.peak())\n",
        "print(queue.dequeue())\n",
        "\n"
      ],
      "metadata": {
        "id": "4Y0dqua5fBny",
        "colab": {
          "base_uri": "https://localhost:8080/",
          "height": 110
        },
        "outputId": "1c5deb5a-8513-4c8d-f258-96d981edbf77"
      },
      "execution_count": null,
      "outputs": [
        {
          "output_type": "error",
          "ename": "SyntaxError",
          "evalue": "invalid syntax (<ipython-input-3-22bf9d3af659>, line 42)",
          "traceback": [
            "\u001b[0;36m  File \u001b[0;32m\"<ipython-input-3-22bf9d3af659>\"\u001b[0;36m, line \u001b[0;32m42\u001b[0m\n\u001b[0;31m    queue=QueueLinkedList():\u001b[0m\n\u001b[0m                           ^\u001b[0m\n\u001b[0;31mSyntaxError\u001b[0m\u001b[0;31m:\u001b[0m invalid syntax\n"
          ]
        }
      ]
    }
  ]
}