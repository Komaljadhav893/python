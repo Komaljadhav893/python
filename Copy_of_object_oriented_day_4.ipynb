{
  "nbformat": 4,
  "nbformat_minor": 0,
  "metadata": {
    "colab": {
      "provenance": [],
      "authorship_tag": "ABX9TyOeZApFDNx1F0uknBzWodh2",
      "include_colab_link": true
    },
    "kernelspec": {
      "name": "python3",
      "display_name": "Python 3"
    },
    "language_info": {
      "name": "python"
    }
  },
  "cells": [
    {
      "cell_type": "markdown",
      "metadata": {
        "id": "view-in-github",
        "colab_type": "text"
      },
      "source": [
        "<a href=\"https://colab.research.google.com/github/Komaljadhav893/python/blob/main/Copy_of_object_oriented_day_4.ipynb\" target=\"_parent\"><img src=\"https://colab.research.google.com/assets/colab-badge.svg\" alt=\"Open In Colab\"/></a>"
      ]
    },
    {
      "cell_type": "code",
      "execution_count": null,
      "metadata": {
        "colab": {
          "base_uri": "https://localhost:8080/"
        },
        "id": "3iqtJ5CIduns",
        "outputId": "f027e4aa-ba54-4a1c-d30c-6d0378627fe4"
      },
      "outputs": [
        {
          "output_type": "stream",
          "name": "stdout",
          "text": [
            "330\n",
            "classic30\n"
          ]
        }
      ],
      "source": [
        "class Bike:\n",
        "  pass\n",
        "Duke=Bike()\n",
        "Duke.name=\"RC390\"\n",
        "Duke.cc=330\n",
        "print(Duke.cc)\n",
        "RE=Bike()\n",
        "RE.name=\"classic30\"\n",
        "RE.cc=350\n",
        "print(RE.name)\n",
        "# my_bike=Bike()\n",
        "# print()"
      ]
    },
    {
      "cell_type": "code",
      "source": [
        "class Bike:\n",
        "  def __init__(self,name,cc):\n",
        "    self.name=name\n",
        "    self.cc=cc\n",
        "  def Sound(self):\n",
        "    print(f\" { self.name} is loud\")\n",
        "\n",
        "Duke=Bike(\"rc390\",390)\n",
        "Re=Bike(\"Classic350\",350)\n",
        "print(Duke.name)\n",
        "print(Duke.cc)\n",
        "print(RE.name)\n",
        "print(RE.cc)\n",
        "Duke.Sound()\n",
        "Re.Sound()\n",
        "\n"
      ],
      "metadata": {
        "colab": {
          "base_uri": "https://localhost:8080/"
        },
        "id": "hPeu_WNojWys",
        "outputId": "2d80be25-78b3-4200-c501-f30c71d2f176"
      },
      "execution_count": null,
      "outputs": [
        {
          "output_type": "stream",
          "name": "stdout",
          "text": [
            "rc390\n",
            "390\n",
            "classic30\n",
            "350\n",
            " rc390 is loud\n",
            " Classic350 is loud\n"
          ]
        }
      ]
    },
    {
      "cell_type": "code",
      "source": [
        "class Feature:\n",
        "  def __init__(self,animal,sound,legs):\n",
        "    self.animal= animal\n",
        "    self.sound= sound\n",
        "    self.legs=legs\n",
        "Dog=Feature(\"dog\",\"bark\",4)\n",
        "Cat=Feature(\"cat\",\"meaw\",4)\n",
        "Monkey=Feature(\"monkey\",\"dont know\",4)\n",
        "print(Cat.sound)\n",
        "print(Cat.legs)"
      ],
      "metadata": {
        "colab": {
          "base_uri": "https://localhost:8080/"
        },
        "id": "ZwgO_xkbn2MZ",
        "outputId": "c121d8b0-05ed-4a97-8def-f2cb1902b992"
      },
      "execution_count": null,
      "outputs": [
        {
          "output_type": "stream",
          "name": "stdout",
          "text": [
            "meaw\n",
            "4\n"
          ]
        }
      ]
    },
    {
      "cell_type": "code",
      "source": [
        "class Feature:\n",
        "  def __init__(self,animal,sound,legs):\n",
        "    self.animal= animal\n",
        "    self.sound= sound\n",
        "    self.legs=legs\n",
        "  def xyz(self):\n",
        "      print(f\"{self.animal} {self.sound} {self.legs}\")\n",
        "Dog=Feature(\"dog\",\"bark\",4)\n",
        "Cat=Feature(\"cat\",\"meaw\",4)\n",
        "Monkey=Feature(\"monkey\",\"dont know\",4)\n",
        "Dog.xyz()\n",
        "Cat.xyz()\n",
        "Monkey.xyz()\n"
      ],
      "metadata": {
        "colab": {
          "base_uri": "https://localhost:8080/"
        },
        "id": "cYkEUItYrcKN",
        "outputId": "f228f498-7a89-40ca-90da-84d3df01ed53"
      },
      "execution_count": null,
      "outputs": [
        {
          "output_type": "stream",
          "name": "stdout",
          "text": [
            "dog bark 4\n",
            "cat meaw 4\n",
            "monkey dont know 4\n"
          ]
        }
      ]
    },
    {
      "cell_type": "code",
      "source": [
        "class Feature:\n",
        "  def __init__(self,animal,sound,legs):\n",
        "    self.animal= animal\n",
        "    self.sound= sound\n",
        "    self.legs=legs\n",
        "  def xyz(self):\n",
        "      print(f\"{self.animal} {self.sound} {self.legs}\")\n",
        "Dog=Feature(\"dog\",\"bark\",4)\n",
        "Cat=Feature(\"cat\",\"meaw\",4)\n",
        "Monkey=Feature(\"monkey\",\"dont know\",4)\n",
        "x=input()\n",
        "if x.lower()==\"dog\":\n",
        "  Dog.xyz()\n",
        "  print(\" all about dog\")\n",
        "elif x.lower()==\"cat\":\n",
        "  Cat.xyz()\n",
        "  print(\"all about cat\")\n",
        "else:\n",
        "  Monkey.xyz()\n"
      ],
      "metadata": {
        "colab": {
          "base_uri": "https://localhost:8080/"
        },
        "id": "ygmi0fcyxnVr",
        "outputId": "875775ce-6d68-4f15-ad36-3c3813423ce0"
      },
      "execution_count": null,
      "outputs": [
        {
          "output_type": "stream",
          "name": "stdout",
          "text": [
            "dog\n",
            "dog bark 4\n",
            " all about dog\n"
          ]
        }
      ]
    },
    {
      "cell_type": "code",
      "source": [
        "#student detail using a single keyword present in it\n",
        "class Feature:\n",
        "  def __init__(self,name,classs,marks):\n",
        "    self.name= name\n",
        "    self.classs=classs\n",
        "    self.marks=marks\n",
        "  def xyz(self):\n",
        "      print(f\"{self.name} {self.classs} {self.marks}\")\n",
        "Komal=Feature(\"komal\",\"3rd sem\",60)\n",
        "Vanitha=Feature(\"vanitha\",\"3rd sem \",100)\n",
        "Swathi=Feature(\"swathi\",\"3rd sem\",100)\n",
        "x=input()\n",
        "marks=0\n",
        "if x.lower()==\"komal\":\n",
        "  Komal.xyz()\n",
        "  if marks >=80:\n",
        "    print(\" great\")\n",
        "  else:\n",
        "    print(\"avg\")\n",
        "\n",
        "elif x.lower()==\"vanitha\":\n",
        "  Vanitha.xyz()\n",
        "  if marks >=80:\n",
        "    print(\"great\")\n",
        "  else:\n",
        "    print(\"avg\")\n",
        "\n",
        "else:\n",
        "  Swathi.xyz()\n"
      ],
      "metadata": {
        "colab": {
          "base_uri": "https://localhost:8080/"
        },
        "id": "gGgZOsou-T-4",
        "outputId": "e53be7aa-28a1-419a-962e-48b8192bea8a"
      },
      "execution_count": null,
      "outputs": [
        {
          "output_type": "stream",
          "name": "stdout",
          "text": [
            "komal\n",
            "komal 3rd sem 60\n",
            "avg\n"
          ]
        }
      ]
    },
    {
      "cell_type": "code",
      "source": [],
      "metadata": {
        "id": "8OuS81zCGztU"
      },
      "execution_count": null,
      "outputs": []
    },
    {
      "cell_type": "code",
      "source": [],
      "metadata": {
        "id": "wQgwIVXd7S1h"
      },
      "execution_count": null,
      "outputs": []
    }
  ]
}