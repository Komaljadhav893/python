{
  "nbformat": 4,
  "nbformat_minor": 0,
  "metadata": {
    "colab": {
      "provenance": [],
      "authorship_tag": "ABX9TyMZxiXlMpcXc8+dgpjH81/6",
      "include_colab_link": true
    },
    "kernelspec": {
      "name": "python3",
      "display_name": "Python 3"
    },
    "language_info": {
      "name": "python"
    }
  },
  "cells": [
    {
      "cell_type": "markdown",
      "metadata": {
        "id": "view-in-github",
        "colab_type": "text"
      },
      "source": [
        "<a href=\"https://colab.research.google.com/github/Komaljadhav893/python/blob/main/day6(oprator_overloading.ipynb\" target=\"_parent\"><img src=\"https://colab.research.google.com/assets/colab-badge.svg\" alt=\"Open In Colab\"/></a>"
      ]
    },
    {
      "cell_type": "code",
      "execution_count": null,
      "metadata": {
        "colab": {
          "base_uri": "https://localhost:8080/"
        },
        "id": "e_vUdF0v80s0",
        "outputId": "33f99864-b2a7-4c4e-8275-7fc45da97484"
      },
      "outputs": [
        {
          "output_type": "stream",
          "name": "stdout",
          "text": [
            "woof!!\n",
            "Meau!!\n"
          ]
        }
      ],
      "source": [
        "class Animal:\n",
        "  def speak(self):\n",
        "    pass\n",
        "class Dog(Animal):\n",
        "  def speak(self):\n",
        "    return \"woof!!\"\n",
        "class Cat(Animal):\n",
        "  def speak(self):\n",
        "    return \"Meau!!\"\n",
        "  def make_animal_speak(animal):\n",
        "    print(animal.speak())\n",
        "  dog=Dog()\n",
        "  cat=Cat()\n",
        "\n",
        "  make_animal_speak(dog)\n",
        "  make_animal_speak(cat)\n",
        "\n"
      ]
    },
    {
      "cell_type": "code",
      "source": [
        "class Vegetable:\n",
        "  def color(self):\n",
        "    pass\n",
        "\n",
        "class Carrot(Vegetable):\n",
        "  def color(self):\n",
        "    return \"Orange\"\n",
        "\n",
        "class Radish(Vegetable):\n",
        "  def color(self):\n",
        "    return \"White\"\n",
        "\n",
        "class Tomato(Vegetable):\n",
        "  def color(self):\n",
        "    return \"Red\"\n",
        "\n",
        "def make_vegetable_color(vegetable):\n",
        "  print(vegetable.color())\n",
        "\n",
        "carrot = Carrot()\n",
        "radish = Radish()\n",
        "tomato = Tomato()\n",
        "\n",
        "make_vegetable_color(carrot)\n",
        "make_vegetable_color(radish)\n",
        "make_vegetable_color(tomato)\n",
        "\n"
      ],
      "metadata": {
        "colab": {
          "base_uri": "https://localhost:8080/"
        },
        "id": "0876EOIdFUr1",
        "outputId": "69fdbd23-9d11-4c7f-cba1-6980cf3250da"
      },
      "execution_count": null,
      "outputs": [
        {
          "output_type": "stream",
          "name": "stdout",
          "text": [
            "Orange\n",
            "White\n",
            "Red\n"
          ]
        }
      ]
    },
    {
      "cell_type": "code",
      "source": [
        "class ComplexNumber:\n",
        "\n",
        "  def __init__(self,real,imaginary):\n",
        "    self.real=real\n",
        "    self.imaginary=imaginary\n",
        "  def __add__(self,other):\n",
        "    return f\"{self.real +other.real} +{self.imaginary + other.imaginary}i\"\n",
        "    self.real + other.imaginary\n",
        "c1= ComplexNumber(2,2)\n",
        "c2 =ComplexNumber(2,3)\n",
        "print(c1+c2)"
      ],
      "metadata": {
        "colab": {
          "base_uri": "https://localhost:8080/"
        },
        "id": "UrX93ajWHGLu",
        "outputId": "34f48646-7e1a-4d4e-8b6f-ef0200f14516"
      },
      "execution_count": null,
      "outputs": [
        {
          "output_type": "stream",
          "name": "stdout",
          "text": [
            "4 +5i\n"
          ]
        }
      ]
    },
    {
      "cell_type": "code",
      "source": [
        "class Party:\n",
        "  def __init__(self,name,money):\n",
        "    self.name=name\n",
        "    self.money=money\n",
        "  def __gt__(self,other):\n",
        "    if self.money>other.money:\n",
        "      return True\n",
        "    else:\n",
        "      return False\n",
        "p1=Party(\"vijaya\",100000000)\n",
        "p2=Party(\"jash\",200000000000000000)\n",
        "if p1>p2:\n",
        "  print(f\"{p1.name}will pay bill\")\n",
        "else:\n",
        "  print(f\"{p2.name} will pay bill\")"
      ],
      "metadata": {
        "colab": {
          "base_uri": "https://localhost:8080/"
        },
        "id": "gE9pcgYACjWN",
        "outputId": "49f5a368-6b75-46f7-d69f-2b22706f035f"
      },
      "execution_count": null,
      "outputs": [
        {
          "output_type": "stream",
          "name": "stdout",
          "text": [
            "jash will pay bill\n"
          ]
        }
      ]
    },
    {
      "cell_type": "code",
      "source": [
        "class Party:\n",
        "  def _init_(self,name,money):\n",
        "    self.name=name\n",
        "    self.money=money\n",
        "    def  _gt_(self,other):\n",
        "      if self.money>other.money:\n",
        "        return True\n",
        "      else:\n",
        "        return False\n",
        "  p1=Party(\"vijaya\",10000000)\n",
        "  p2=Party(\"jash\",200000000000)\n",
        "  if p1 > p2:\n",
        "     print(f\"{p1.name}will pay bill\")\n",
        "  else:\n",
        "     print(f\"{p2.name}will pay bill\")"
      ],
      "metadata": {
        "colab": {
          "base_uri": "https://localhost:8080/"
        },
        "id": "X0VyPOWKOazv",
        "outputId": "abc6a98d-5f00-425a-a35a-389eaadab39f"
      },
      "execution_count": null,
      "outputs": [
        {
          "output_type": "stream",
          "name": "stdout",
          "text": [
            "jashwill pay bill\n"
          ]
        }
      ]
    },
    {
      "cell_type": "code",
      "source": [
        "print(\"2\" + \"5\")"
      ],
      "metadata": {
        "colab": {
          "base_uri": "https://localhost:8080/"
        },
        "id": "f3YbsJM4Cjh0",
        "outputId": "a7b10ab3-687f-432b-8253-65ff38901ba0"
      },
      "execution_count": null,
      "outputs": [
        {
          "output_type": "stream",
          "name": "stdout",
          "text": [
            "25\n"
          ]
        }
      ]
    },
    {
      "cell_type": "code",
      "source": [
        "a=int(input())\n",
        "b=int(input())\n",
        "current_location=12\n",
        "location=(a+b)/2\n",
        "print(location)\n",
        "if location==current_location:\n",
        "  print(\"arrived\")\n",
        "else:\n",
        "  print(\"not arived\")"
      ],
      "metadata": {
        "colab": {
          "base_uri": "https://localhost:8080/"
        },
        "id": "aUuTO3P_VZ0u",
        "outputId": "f27445d0-9fff-4393-fdca-7688008e7672"
      },
      "execution_count": null,
      "outputs": [
        {
          "output_type": "stream",
          "name": "stdout",
          "text": [
            "12\n",
            "12\n",
            "12.0\n",
            "arrived\n"
          ]
        }
      ]
    },
    {
      "cell_type": "code",
      "source": [
        "class Vector:\n",
        "  def __init__(self, x, y):\n",
        "    self.x = x\n",
        "    self.y = y\n",
        "\n",
        "  def __add__(self, other):\n",
        "    return Vector(self.x + other.x, self.y + other.y)\n",
        "\n",
        "  def __truediv__(self, scalar):\n",
        "    return Vector(self.x / scalar, self.y / scalar)\n",
        "\n",
        "a = int(input())\n",
        "b = int(input())\n",
        "\n",
        "current_location = Vector(12,0)\n",
        "location = (Vector(a,0) + Vector(b,0)) / 2\n",
        "\n",
        "print(location.x, location.y)\n",
        "\n",
        "if location == current_location:\n",
        "  print(\"arrived\")\n",
        "else:\n",
        "  print(\"not arrived\")"
      ],
      "metadata": {
        "colab": {
          "base_uri": "https://localhost:8080/"
        },
        "id": "HN-kJieaYsoV",
        "outputId": "eed6001b-191e-4e1d-a8ad-3d1ba0e41eed"
      },
      "execution_count": null,
      "outputs": [
        {
          "output_type": "stream",
          "name": "stdout",
          "text": [
            "12\n",
            "12\n",
            "12.0 0.0\n",
            "not arrived\n"
          ]
        }
      ]
    },
    {
      "cell_type": "code",
      "source": [
        "#comparision oprator in py\n",
        "class A:\n",
        "  def __init__(self,a):\n",
        "    self.a=a\n",
        "  def __gt__(self,other):\n",
        "    if (self.a > other.a):\n",
        "      return True\n",
        "    else:\n",
        "      return False\n",
        "ob1=A(3)\n",
        "ob2=A(5)\n",
        "if (ob1 > ob2):\n",
        "  print(\" ob1 is greater\")\n",
        "else:\n",
        "  print(\"ob2 is greater\")\n"
      ],
      "metadata": {
        "colab": {
          "base_uri": "https://localhost:8080/"
        },
        "id": "-DdgtBg3ka0q",
        "outputId": "64aea270-b7b6-4018-c079-2823ccbff1a5"
      },
      "execution_count": null,
      "outputs": [
        {
          "output_type": "stream",
          "name": "stdout",
          "text": [
            "ob2 is greater\n"
          ]
        }
      ]
    },
    {
      "cell_type": "code",
      "source": [
        "class Demo:\n",
        "  def add(self, *a):\n",
        "    total=0\n",
        "    for i in a:\n",
        "      total=total+i\n",
        "    return total\n",
        "d=Demo()\n",
        "print(d.add(2,3))\n",
        "print(d.add(10,20,30))"
      ],
      "metadata": {
        "colab": {
          "base_uri": "https://localhost:8080/"
        },
        "id": "kDuiaPAZmNkX",
        "outputId": "3b1dfb5c-3fcf-4438-eece-5993145817b2"
      },
      "execution_count": null,
      "outputs": [
        {
          "output_type": "stream",
          "name": "stdout",
          "text": [
            "5\n",
            "60\n"
          ]
        }
      ]
    },
    {
      "cell_type": "markdown",
      "source": [
        "\n",
        "\n",
        "```\n",
        "# This is formatted as code\n",
        "```\n",
        "\n"
      ],
      "metadata": {
        "id": "OHONjWKSmMKO"
      }
    }
  ]
}