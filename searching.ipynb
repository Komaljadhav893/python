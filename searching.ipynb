{
  "nbformat": 4,
  "nbformat_minor": 0,
  "metadata": {
    "colab": {
      "provenance": [],
      "authorship_tag": "ABX9TyOGubt7GTn/JHitRFGI4QwJ",
      "include_colab_link": true
    },
    "kernelspec": {
      "name": "python3",
      "display_name": "Python 3"
    },
    "language_info": {
      "name": "python"
    }
  },
  "cells": [
    {
      "cell_type": "markdown",
      "metadata": {
        "id": "view-in-github",
        "colab_type": "text"
      },
      "source": [
        "<a href=\"https://colab.research.google.com/github/Komaljadhav893/python/blob/main/searching.ipynb\" target=\"_parent\"><img src=\"https://colab.research.google.com/assets/colab-badge.svg\" alt=\"Open In Colab\"/></a>"
      ]
    },
    {
      "cell_type": "code",
      "source": [
        "#liner search simple way\n",
        "list1=[1,2,3,4,5,6]\n",
        "key=0\n",
        "for i in range(len(list1)):\n",
        "  if list1[i]==key:\n",
        "    print(\"keyword is found at index\",i)\n",
        "else:\n",
        "  print(\"keyword not found\")\n",
        "\n"
      ],
      "metadata": {
        "colab": {
          "base_uri": "https://localhost:8080/"
        },
        "id": "26SjhI9Krm-g",
        "outputId": "50ce1f25-ad6b-4d2c-cab7-a3da5af99673"
      },
      "execution_count": null,
      "outputs": [
        {
          "output_type": "stream",
          "name": "stdout",
          "text": [
            "keyword not found\n"
          ]
        }
      ]
    },
    {
      "cell_type": "code",
      "source": [
        "#linear search\n",
        "arr=input(\"enter the number in list saparated by space : \").split()\n",
        "arr=[int(x) for  x in arr]\n",
        "target=int(input(\"enter the target value to sarch : \"))\n",
        "found =False\n",
        "for i in range(len(arr)):\n",
        "  if arr[i] == target:\n",
        "    print(f\"target {target} found at index {i}\")\n",
        "    found =True\n",
        "    break\n",
        "if not found:\n",
        "  print(\"target not found inthe array\")\n"
      ],
      "metadata": {
        "colab": {
          "base_uri": "https://localhost:8080/"
        },
        "id": "zGL_qr6Ds0gc",
        "outputId": "8974d8c2-2b00-493b-9b7f-4296986bb32d"
      },
      "execution_count": null,
      "outputs": [
        {
          "output_type": "stream",
          "name": "stdout",
          "text": [
            "enter the number in list saparated by space : 12 45 34 90 76\n",
            "enter the target value to sarch : 90\n",
            "target 90 found at index 3\n"
          ]
        }
      ]
    },
    {
      "cell_type": "code",
      "source": [
        "#binary search\n",
        "# arr=[int(x) for x in input(\"enter the input :\")].split()\n",
        "arr=input(\"enter the number in list saparated by space : \").split()\n",
        "arr=[int(x) for  x in arr]\n",
        "target =int(input(\"enter target element :\"))\n",
        "start,end=0, len(arr)-1\n",
        "found=False\n",
        "while start <=end:\n",
        "  mid=(start + end ) //2\n",
        "  if arr[mid] ==target:\n",
        "    print(f\"target {target} found in {mid}\")\n",
        "    found =True\n",
        "    break\n",
        "  elif arr[mid] < target:\n",
        "    start =mid+1\n",
        "  else:\n",
        "    end=mid-1\n",
        "\n",
        "if not found:\n",
        "  print(f\" target {target } not found in the array\")"
      ],
      "metadata": {
        "colab": {
          "base_uri": "https://localhost:8080/"
        },
        "id": "MHPLHAC8xvpd",
        "outputId": "d5943dc4-5469-4781-cc8e-b8a86187d3d6"
      },
      "execution_count": null,
      "outputs": [
        {
          "output_type": "stream",
          "name": "stdout",
          "text": [
            "enter the number in list saparated by space : 3 4 5 6\n",
            "enter target element :5\n",
            "target 5 found in 2\n"
          ]
        }
      ]
    }
  ]
}