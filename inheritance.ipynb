{
  "nbformat": 4,
  "nbformat_minor": 0,
  "metadata": {
    "colab": {
      "provenance": [],
      "authorship_tag": "ABX9TyPpE+tkX0BBPZu7fdojH1wc",
      "include_colab_link": true
    },
    "kernelspec": {
      "name": "python3",
      "display_name": "Python 3"
    },
    "language_info": {
      "name": "python"
    }
  },
  "cells": [
    {
      "cell_type": "markdown",
      "metadata": {
        "id": "view-in-github",
        "colab_type": "text"
      },
      "source": [
        "<a href=\"https://colab.research.google.com/github/Komaljadhav893/python/blob/main/inheritance.ipynb\" target=\"_parent\"><img src=\"https://colab.research.google.com/assets/colab-badge.svg\" alt=\"Open In Colab\"/></a>"
      ]
    },
    {
      "cell_type": "code",
      "execution_count": null,
      "metadata": {
        "colab": {
          "base_uri": "https://localhost:8080/"
        },
        "id": "Y5ohFp20fkMM",
        "outputId": "5c5eb364-dd55-4fab-86e1-1311f2252560"
      },
      "outputs": [
        {
          "output_type": "stream",
          "name": "stdout",
          "text": [
            "Enter the bike :Re\n",
            "splender is superbike\n"
          ]
        }
      ],
      "source": [
        "class Bike:\n",
        "  def __init__(self,name,cc):\n",
        "    self.name=name\n",
        "    self.cc=cc\n",
        "  def Type(self):\n",
        "    if self.cc <200:\n",
        "      print(f\" {self.name} is normal bike\")\n",
        "    else:\n",
        "      print(f\"{self.name} is superbike\")\n",
        "Duke=Bike(\"rc36y0\",390)\n",
        "Re=Bike(\"classic30\",350)\n",
        "Hero=Bike(\"splender\",678)\n",
        "b=input(\"Enter the bike :\")\n",
        "if b==\"Duke\":\n",
        "  Duke.Type()\n",
        "elif b==\"RE\":\n",
        "  Re.Type()\n",
        "else:\n",
        "  Hero.Type()\n"
      ]
    },
    {
      "cell_type": "code",
      "source": [],
      "metadata": {
        "id": "PfyRwO83nd6U"
      },
      "execution_count": null,
      "outputs": []
    },
    {
      "cell_type": "code",
      "source": [
        "#inheritance\n",
        "class Human:\n",
        "  def __init__(self):\n",
        "    self.hobby=\"dancing\"\n",
        "  def eat(slef):\n",
        "    print(\" i can eat \")\n",
        "  def sleep(self) :\n",
        "    print(\" i can sleep\")\n",
        "class Komal(Human):\n",
        "  def __init__(self):\n"
      ],
      "metadata": {
        "colab": {
          "base_uri": "https://localhost:8080/",
          "height": 106
        },
        "id": "qqnp2MuImpnU",
        "outputId": "348f6abc-8e77-4c02-a107-97fffc6a8a6f"
      },
      "execution_count": null,
      "outputs": [
        {
          "output_type": "error",
          "ename": "SyntaxError",
          "evalue": "incomplete input (<ipython-input-9-98106fafe1f4>, line 11)",
          "traceback": [
            "\u001b[0;36m  File \u001b[0;32m\"<ipython-input-9-98106fafe1f4>\"\u001b[0;36m, line \u001b[0;32m11\u001b[0m\n\u001b[0;31m    \u001b[0m\n\u001b[0m    ^\u001b[0m\n\u001b[0;31mSyntaxError\u001b[0m\u001b[0;31m:\u001b[0m incomplete input\n"
          ]
        }
      ]
    },
    {
      "cell_type": "code",
      "source": [
        "class Human:\n",
        "  def __init__(self,hobby,food):\n",
        "    self.hobby=hobby\n",
        "    self.food=food\n",
        "  def display(self):\n",
        "    print(f\" she plays {self.hobby} and she is likes {self.food}\")\n",
        "class Komal(Human):\n",
        "  def __init__(self,hobby,food,language):\n",
        "    super().__init__(hobby,food)\n",
        "    self.language=language\n",
        "  def display(self):\n",
        "    super().display()\n",
        "    print(f\"{self.language}\")\n",
        "user=Komal(\"dancing\", \" chhole bature\", \" hindi\")\n",
        "user.display()\n"
      ],
      "metadata": {
        "colab": {
          "base_uri": "https://localhost:8080/"
        },
        "id": "6BaMQpoMuIVk",
        "outputId": "ae9a78da-6ae2-41e5-b4e3-1a4d50ed1c49"
      },
      "execution_count": null,
      "outputs": [
        {
          "output_type": "stream",
          "name": "stdout",
          "text": [
            " she plays dancing and she is likes  chhole bature\n",
            " hindi\n"
          ]
        }
      ]
    },
    {
      "cell_type": "code",
      "source": [
        "class Market:\n",
        "  def __init__(self,fruits,quality,price):\n",
        "    self.fruits=fruits\n",
        "    self.quality=quality\n",
        "    self.price=price\n",
        "  def display(self):\n",
        "    print(f\" the fruit is{ self.fruits} and having {self.quality} quality , and price is  {self.price}\")\n",
        "class Vijash( Market ):\n",
        "  def __init__(self,fruits,quality,price,teste):\n",
        "    super().__init__(fruits,quality,price)\n",
        "    self.teste=teste\n",
        "  def display(self):\n",
        "    super().display()\n",
        "    print(f\" having{ self.teste}\")\n",
        "user=Vijash(\"mango\",\"good\", \"89\",\"good\")\n",
        "user.display()\n"
      ],
      "metadata": {
        "colab": {
          "base_uri": "https://localhost:8080/"
        },
        "id": "LDAv7qt54JwX",
        "outputId": "29515f88-ff0a-41ac-808c-9ac8de95ec5e"
      },
      "execution_count": null,
      "outputs": [
        {
          "output_type": "stream",
          "name": "stdout",
          "text": [
            " the fruit ismango and having good quality , and price is  89\n",
            " havinggood\n"
          ]
        }
      ]
    }
  ]
}