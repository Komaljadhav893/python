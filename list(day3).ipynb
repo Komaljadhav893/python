{
  "nbformat": 4,
  "nbformat_minor": 0,
  "metadata": {
    "colab": {
      "provenance": [],
      "authorship_tag": "ABX9TyP5Q+E0AdDEfubVTAlP8gcV",
      "include_colab_link": true
    },
    "kernelspec": {
      "name": "python3",
      "display_name": "Python 3"
    },
    "language_info": {
      "name": "python"
    }
  },
  "cells": [
    {
      "cell_type": "markdown",
      "metadata": {
        "id": "view-in-github",
        "colab_type": "text"
      },
      "source": [
        "<a href=\"https://colab.research.google.com/github/Komaljadhav893/python/blob/main/list(day3).ipynb\" target=\"_parent\"><img src=\"https://colab.research.google.com/assets/colab-badge.svg\" alt=\"Open In Colab\"/></a>"
      ]
    },
    {
      "cell_type": "code",
      "execution_count": null,
      "metadata": {
        "colab": {
          "base_uri": "https://localhost:8080/"
        },
        "id": "hPEMrJKvKgrF",
        "outputId": "78416414-1c87-4830-921c-1ad92ed9c3b6"
      },
      "outputs": [
        {
          "output_type": "stream",
          "name": "stdout",
          "text": [
            "[10, 20, 30, 40, 50, 60, 70, 80, 90, 100]\n"
          ]
        }
      ],
      "source": [
        "list1=[10,20,30,40,50,60,70,80,90,100]\n",
        "print(list1)"
      ]
    },
    {
      "cell_type": "code",
      "source": [
        "list1=(input().split(' '))\n",
        "print(list1)"
      ],
      "metadata": {
        "colab": {
          "base_uri": "https://localhost:8080/"
        },
        "id": "nHimpfbkLoUS",
        "outputId": "591c9412-7b7d-4238-ffe0-dd4d9aa9cf99"
      },
      "execution_count": null,
      "outputs": [
        {
          "output_type": "stream",
          "name": "stdout",
          "text": [
            "10 20 30 40\n",
            "['10', '20', '30', '40']\n"
          ]
        }
      ]
    },
    {
      "cell_type": "code",
      "source": [
        "#code force 617A\n",
        "x=int(input())\n",
        "if(x<5):\n",
        "  print(1)\n",
        "elif(x%5==0):\n",
        "  print(x/5)\n",
        "else:\n",
        "  print(x//5+1)\n"
      ],
      "metadata": {
        "colab": {
          "base_uri": "https://localhost:8080/"
        },
        "id": "zA3Q_PpWOxT3",
        "outputId": "5b8729ac-8ee7-4f8d-90fe-3691a66bd668"
      },
      "execution_count": null,
      "outputs": [
        {
          "output_type": "stream",
          "name": "stdout",
          "text": [
            "7\n",
            "2\n"
          ]
        }
      ]
    },
    {
      "cell_type": "code",
      "source": [
        "a=int(input())\n",
        "b=int(input())\n",
        "int n\n",
        "print(n)\n",
        "if(a<=b):\n",
        "  print(1)\n",
        "elif(a==b):\n",
        "  print(n++)\n",
        "\n"
      ],
      "metadata": {
        "id": "bs0_O0MSTPjJ"
      },
      "execution_count": null,
      "outputs": []
    },
    {
      "cell_type": "code",
      "source": [
        "#codeforce 791a\n",
        "a=int(input())\n",
        "b=int(input())\n",
        "n=0\n",
        "while(a<=b):\n",
        "\n",
        "  a=3*a\n",
        "  b=2*b\n",
        "  n+=1\n",
        "print(n)\n"
      ],
      "metadata": {
        "colab": {
          "base_uri": "https://localhost:8080/"
        },
        "id": "X1nl7rJgX3qD",
        "outputId": "315e633f-d638-43b7-d7dd-442048bfb142"
      },
      "execution_count": null,
      "outputs": [
        {
          "output_type": "stream",
          "name": "stdout",
          "text": [
            "4\n",
            "7\n",
            "2\n"
          ]
        }
      ]
    },
    {
      "cell_type": "code",
      "source": [
        "# printing max using max method\n",
        "h=[2,7,3,8,9]\n",
        "print(max(h))"
      ],
      "metadata": {
        "colab": {
          "base_uri": "https://localhost:8080/"
        },
        "id": "h6PkvsuradeR",
        "outputId": "d6f5be2e-2aeb-4b72-c9b6-a0c17a7f6976"
      },
      "execution_count": null,
      "outputs": [
        {
          "output_type": "stream",
          "name": "stdout",
          "text": [
            "9\n"
          ]
        }
      ]
    },
    {
      "cell_type": "code",
      "source": [
        "#maximun without using max method\n",
        "h=[1,2,3,4,5,6,7,8,9]\n",
        "max=0\n",
        "for i in h:\n",
        "  if(i>max):\n",
        "    max=i\n",
        "print(max)"
      ],
      "metadata": {
        "colab": {
          "base_uri": "https://localhost:8080/"
        },
        "id": "FLzwSWJSaxuZ",
        "outputId": "76f43107-1f52-42b8-94b6-5fb60dca7be2"
      },
      "execution_count": null,
      "outputs": [
        {
          "output_type": "stream",
          "name": "stdout",
          "text": [
            "9\n"
          ]
        }
      ]
    },
    {
      "cell_type": "code",
      "source": [
        "#finding min witouht min\n",
        "h=[-1,-3,1,2,3,4,5,6]\n",
        "min<=0\n",
        "for i in h:\n",
        "  if(i<min):\n",
        "    min=i\n",
        "print(min)"
      ],
      "metadata": {
        "colab": {
          "base_uri": "https://localhost:8080/"
        },
        "id": "zlnBeTXfckpW",
        "outputId": "7cf2588b-9104-4ee7-d691-c83082d510f0"
      },
      "execution_count": null,
      "outputs": [
        {
          "output_type": "stream",
          "name": "stdout",
          "text": [
            "-3\n"
          ]
        }
      ]
    }
  ]
}